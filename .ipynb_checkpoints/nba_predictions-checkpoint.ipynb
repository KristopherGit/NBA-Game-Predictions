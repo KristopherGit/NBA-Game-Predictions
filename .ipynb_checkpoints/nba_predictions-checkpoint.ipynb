{
 "cells": [
  {
   "cell_type": "markdown",
   "id": "9e9eb0ff-4cd5-4b8b-8dcf-62c628641ab0",
   "metadata": {},
   "source": [
    "## NBA Predictions - Predicting NBA Game Outcomes with ML / Neural Networks"
   ]
  },
  {
   "cell_type": "code",
   "execution_count": 8,
   "id": "a923529c-d796-4715-a9fe-a8e4f9951853",
   "metadata": {},
   "outputs": [],
   "source": [
    "# Import libraries and dependencies\n",
    "\n",
    "# i.) Import libraries for web scraping specifically\n",
    "# Playwright and BeautifulSoup allows web browser to open, navigate to specific part of the page, use 'Instance'\n",
    "# to access the html and grab information\n",
    "import os \n",
    "from bs4 import BeautifulSoup\n",
    "\n",
    "#Note: Playwright runs asyncronously; executes separately in the background not in the main code section\n",
    "from playwright.async_api import async_playwright, TimeoutError as PlaywrightTimeout\n",
    "import time\n",
    "\n",
    "import pandas as pd"
   ]
  },
  {
   "cell_type": "code",
   "execution_count": 9,
   "id": "c48f3f82-d101-4e1c-a974-243973c70aae",
   "metadata": {},
   "outputs": [
    {
     "data": {
      "text/plain": [
       "[2016, 2017, 2018, 2019, 2020, 2021, 2022]"
      ]
     },
     "execution_count": 9,
     "metadata": {},
     "output_type": "execute_result"
    }
   ],
   "source": [
    "# Setup constants\n",
    "# range are seasons we want to scrap data from\n",
    "SEASONS = list(range(2016, 2023))\n",
    "SEASONS"
   ]
  },
  {
   "cell_type": "code",
   "execution_count": 10,
   "id": "6942681a-0cb9-44ee-bab8-3b69d5466da7",
   "metadata": {},
   "outputs": [],
   "source": [
    "# Directory to store SEASONS data -> Creating pointers where to store the data that eventually gets scraped\n",
    "DATA_DIR = \"data2\"\n",
    "# Directory inside the DATA_DIR=\"data2\" directory in order to store standings info (info we scrap that lists all\n",
    "# box scores)\n",
    "STANDINGS_DIR = os.path.join(DATA_DIR, \"standings\")\n",
    "\n",
    "# Directory to then store all the box scores\n",
    "SCORES_DIR = os.path.join(DATA_DIR, \"scores\")"
   ]
  },
  {
   "cell_type": "markdown",
   "id": "48311b17-f608-4826-a896-7e34dbe5249a",
   "metadata": {},
   "source": [
    "#### i.) Web Scraping NBA Data with Playwright"
   ]
  },
  {
   "cell_type": "code",
   "execution_count": 2,
   "id": "8e23b132-8ff8-467e-8777-449bae51fb90",
   "metadata": {},
   "outputs": [],
   "source": [
    "# Use https://www.basketball-reference.com/\n",
    "# Link to each NBA game for a particular season/month's individual box scores: \n",
    "# i.e.) https://www.basketball-reference.com/ -> 'Season' -> 'All NBA and ABA Seasons' -> '2015-16' \n",
    "# -> 'Schedule & Results' -> 'October' November' December' 'January', etc.\n",
    "\n",
    "# Function script that if we give it a url & a selector it can grab html from a part of that page\n",
    "# Playwright works async (executes in the background and doesn't print to main page)"
   ]
  },
  {
   "cell_type": "code",
   "execution_count": null,
   "id": "80d1d1ef-bfeb-464f-99b9-20b43e37de7a",
   "metadata": {},
   "outputs": [],
   "source": [
    "# Get 'html' function\n",
    "# Function is used to scrap, but pauses for sleep=5 (* i) seconds so the server doesn't ban us attempting to get data\n",
    "async def get_html(url, selector, sleep=5, retries=3):\n",
    "    html = None\n",
    "    for i in range(1, retries+1)\n",
    "        time.sleep(sleep * i)\n",
    "        \n",
    "        # try launching playwright & chromium browser w/ await activated (waiting until browser is finished loading until scraping begins\n",
    "        try:\n",
    "            async with async_playwright() as p:\n",
    "                #launches browser, 'awaits' until browser is finished loading\n",
    "                browser = await p.chromium.launch()\n",
    "                #create new tab in browser\n",
    "                page = await browser.new_page()\n",
    "                await page.goto(url)\n",
    "                #print the title of the url webpage so we know our progress in the 'try' method await playwright webscrap process\n",
    "                print(await page.title())\n",
    "                #grab 'selector' a certain section or piece of the html\n",
    "                html = await page.inner_html(selector)\n",
    "        except PlaywrightTimeout: \n",
    "            # 'except' PlaywrightTimeout will throw us an error if there's a timeout error in attempting to scrap\n",
    "            print(f\"Timeout error on {url}\")\n",
    "            # if it fails, it will loop again and retry with a longer scrap timer (sleep * i, i=iteration number)\n",
    "            continue\n",
    "        else:\n",
    "            break\n",
    "    return html"
   ]
  },
  {
   "cell_type": "code",
   "execution_count": 11,
   "id": "e7de7e7f-48dc-4912-b545-e0d7ce2728f8",
   "metadata": {},
   "outputs": [],
   "source": [
    "# Start grabbing 'a' tags / 'href' links from www.basketball-reference.com/leages/NBA_{season}_games.html\n",
    "# i.e.\n",
    "\n",
    "season = 2016\n",
    "\n",
    "url = f\"https://www.basketball-reference.com/leagues/NBA_{season}_games.html\""
   ]
  },
  {
   "cell_type": "code",
   "execution_count": 12,
   "id": "9889f933-a749-4c1a-83ad-cb3b99a9a2cf",
   "metadata": {},
   "outputs": [
    {
     "data": {
      "text/plain": [
       "'https://www.basketball-reference.com/leagues/NBA_2016_games.html'"
      ]
     },
     "execution_count": 12,
     "metadata": {},
     "output_type": "execute_result"
    }
   ],
   "source": [
    "url"
   ]
  },
  {
   "cell_type": "code",
   "execution_count": null,
   "id": "64906ace-a9d8-48c7-9369-22da7828528e",
   "metadata": {},
   "outputs": [],
   "source": [
    "html = await get_hmtl(url, #content.filter"
   ]
  }
 ],
 "metadata": {
  "kernelspec": {
   "display_name": "dev",
   "language": "python",
   "name": "dev"
  },
  "language_info": {
   "codemirror_mode": {
    "name": "ipython",
    "version": 3
   },
   "file_extension": ".py",
   "mimetype": "text/x-python",
   "name": "python",
   "nbconvert_exporter": "python",
   "pygments_lexer": "ipython3",
   "version": "3.7.13"
  }
 },
 "nbformat": 4,
 "nbformat_minor": 5
}
